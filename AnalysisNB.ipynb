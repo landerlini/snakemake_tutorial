{
 "cells": [
  {
   "cell_type": "code",
   "execution_count": 3,
   "id": "5d92b58c-3015-4bdb-aed8-c4eeeb0d2652",
   "metadata": {},
   "outputs": [
    {
     "data": {
      "text/plain": [
       "'INPUT_FILE: dimuon2010.csv'"
      ]
     },
     "metadata": {},
     "output_type": "display_data"
    },
    {
     "data": {
      "image/png": "[encoded data removed]",
      "text/plain": [
       "<Figure size 432x288 with 1 Axes>"
      ]
     },
     "metadata": {
      "needs_background": "light"
     },
     "output_type": "display_data"
    }
   ],
   "source": [
    "import numpy as np\n",
    "import pandas as pd \n",
    "import matplotlib.pyplot as plt\n",
    "\n",
    "import os\n",
    "\n",
    "INPUT_FILE = os.environ.get(\"INPUT_FILE\", \"dimuon2010.csv\")\n",
    "display(f\"INPUT_FILE: {INPUT_FILE}\") ## Important, this value will change when executed in the workflow. \n",
    "                                     ## It is a good idea to display it for successive debugging.\n",
    "\n",
    "df = pd.read_csv(INPUT_FILE)\n",
    "df.hist(\"M\", bins=100)\n",
    "plt.xlabel(\"Dimuon mass [GeV/$c^2$]\")\n",
    "plt.show()"
   ]
  },
  {
   "cell_type": "code",
   "execution_count": null,
   "id": "23c9dd70-5a1f-41e4-b462-d091d391d37f",
   "metadata": {},
   "outputs": [],
   "source": []
  }
 ],
 "metadata": {
  "kernelspec": {
   "display_name": "Python 3",
   "language": "python",
   "name": "python3"
  },
  "language_info": {
   "codemirror_mode": {
    "name": "ipython",
    "version": 3
   },
   "file_extension": ".py",
   "mimetype": "text/x-python",
   "name": "python",
   "nbconvert_exporter": "python",
   "pygments_lexer": "ipython3",
   "version": "3.9.12"
  }
 },
 "nbformat": 4,
 "nbformat_minor": 5
}
